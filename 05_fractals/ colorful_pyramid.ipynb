{
 "cells": [
  {
   "cell_type": "markdown",
   "id": "1b492425",
   "metadata": {},
   "source": [
    "https://drive.google.com/file/d/1O68ZsKDRv_cjxRNuZaka2Ew967kW3Aky/view?fbclid=IwAR2PqI75n7utAoSfsgfWudlhO07txoPWea7jb33pJQo7_dbTOJCRi0mD6s4"
   ]
  },
  {
   "cell_type": "code",
   "execution_count": null,
   "id": "3578b5f1",
   "metadata": {},
   "outputs": [],
   "source": [
    "from turtle import *"
   ]
  },
  {
   "cell_type": "code",
   "execution_count": null,
   "id": "eda9499a",
   "metadata": {},
   "outputs": [],
   "source": [
    "speed(0)\n",
    "screen = Screen()\n",
    "colormode(255)\n",
    "\n",
    "import os \n",
    "# os.chdir('Your Directory')\n",
    "\n",
    "\n",
    "Hue = ('#ff0000', '#ff4000', '#ff8000', '#ffbf00', '#ffff00', '#bfff00', '#80ff00', '#40ff00', '#00ff00', '#00ff40', '#00ff80',     '#00ffbf', '#00ffff', '#00bfff', '#0080ff', '#0040ff', '#0000ff', '#4000ff', '#8000ff', '#bf00ff', '#ff00ff', '#ff00bf', '#ff0080', '#ff0040')\n",
    "\n",
    "def sides(n):\n",
    "  q=0\n",
    "  for i in range(700):º\n",
    "     k = q%23\n",
    "     pencolor(Hue[k])\n",
    "     fd(2*(4/n)*i*1.618+1)\n",
    "     right(360/n)\n",
    "     pensize(i*1.618+1)\n",
    "     q+=1\n",
    "\n",
    "sides(4)\n",
    "\n",
    "ht()\n",
    "screen.getcanvas().postscript(file='colorful_pyramid.eps')\n",
    "done()   "
   ]
  }
 ],
 "metadata": {
  "kernelspec": {
   "display_name": "Python 3 (ipykernel)",
   "language": "python",
   "name": "python3"
  },
  "language_info": {
   "codemirror_mode": {
    "name": "ipython",
    "version": 3
   },
   "file_extension": ".py",
   "mimetype": "text/x-python",
   "name": "python",
   "nbconvert_exporter": "python",
   "pygments_lexer": "ipython3",
   "version": "3.9.7"
  }
 },
 "nbformat": 4,
 "nbformat_minor": 5
}
