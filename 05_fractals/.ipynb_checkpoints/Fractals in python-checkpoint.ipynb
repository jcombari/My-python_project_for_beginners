{
 "cells": [
  {
   "cell_type": "code",
   "execution_count": 13,
   "id": "252ca23d",
   "metadata": {},
   "outputs": [
    {
     "ename": "ImportError",
     "evalue": "cannot import name 'Sierpinski' from 'fractal' (C:\\Users\\jenny\\.conda\\envs\\research\\lib\\site-packages\\fractal\\__init__.py)",
     "output_type": "error",
     "traceback": [
      "\u001b[1;31m---------------------------------------------------------------------------\u001b[0m",
      "\u001b[1;31mImportError\u001b[0m                               Traceback (most recent call last)",
      "\u001b[1;32m~\\AppData\\Local\\Temp/ipykernel_37104/1239292603.py\u001b[0m in \u001b[0;36m<module>\u001b[1;34m\u001b[0m\n\u001b[0;32m      1\u001b[0m \u001b[1;31m#pip install fractal\u001b[0m\u001b[1;33m\u001b[0m\u001b[1;33m\u001b[0m\u001b[0m\n\u001b[1;32m----> 2\u001b[1;33m \u001b[1;32mfrom\u001b[0m \u001b[0mfractal\u001b[0m \u001b[1;32mimport\u001b[0m \u001b[0mSierpinski\u001b[0m\u001b[1;33m,\u001b[0m \u001b[0mVicsek\u001b[0m\u001b[1;33m,\u001b[0m \u001b[0mTree\u001b[0m\u001b[1;33m,\u001b[0m \u001b[0mDragon\u001b[0m\u001b[1;33m,\u001b[0m \u001b[0mKoch\u001b[0m\u001b[1;33m,\u001b[0m \u001b[0mHilbert\u001b[0m\u001b[1;33m,\u001b[0m \u001b[0mLevy\u001b[0m\u001b[1;33m\u001b[0m\u001b[1;33m\u001b[0m\u001b[0m\n\u001b[0m",
      "\u001b[1;31mImportError\u001b[0m: cannot import name 'Sierpinski' from 'fractal' (C:\\Users\\jenny\\.conda\\envs\\research\\lib\\site-packages\\fractal\\__init__.py)"
     ]
    }
   ],
   "source": [
    "#pip install fractal\n",
    "from fractal import Sierpinski, Vicsek, Tree, Dragon, Koch, Hilbert, Levy"
   ]
  },
  {
   "cell_type": "code",
   "execution_count": 8,
   "id": "dd665b50",
   "metadata": {},
   "outputs": [
    {
     "ename": "NameError",
     "evalue": "name 'Koch' is not defined",
     "output_type": "error",
     "traceback": [
      "\u001b[1;31m---------------------------------------------------------------------------\u001b[0m",
      "\u001b[1;31mNameError\u001b[0m                                 Traceback (most recent call last)",
      "\u001b[1;32m~\\AppData\\Local\\Temp/ipykernel_37104/114107259.py\u001b[0m in \u001b[0;36m<module>\u001b[1;34m\u001b[0m\n\u001b[1;32m----> 1\u001b[1;33m \u001b[0mkoch\u001b[0m \u001b[1;33m=\u001b[0m \u001b[0mKoch\u001b[0m\u001b[1;33m(\u001b[0m\u001b[1;33m)\u001b[0m\u001b[1;33m\u001b[0m\u001b[1;33m\u001b[0m\u001b[0m\n\u001b[0m\u001b[0;32m      2\u001b[0m \u001b[0mkoch\u001b[0m\u001b[1;33m.\u001b[0m\u001b[0mplot\u001b[0m\u001b[1;33m(\u001b[0m\u001b[1;33m)\u001b[0m\u001b[1;33m\u001b[0m\u001b[1;33m\u001b[0m\u001b[0m\n",
      "\u001b[1;31mNameError\u001b[0m: name 'Koch' is not defined"
     ]
    }
   ],
   "source": [
    "koch = Koch()\n",
    "koch.plot()"
   ]
  }
 ],
 "metadata": {
  "kernelspec": {
   "display_name": "Python 3 (ipykernel)",
   "language": "python",
   "name": "python3"
  },
  "language_info": {
   "codemirror_mode": {
    "name": "ipython",
    "version": 3
   },
   "file_extension": ".py",
   "mimetype": "text/x-python",
   "name": "python",
   "nbconvert_exporter": "python",
   "pygments_lexer": "ipython3",
   "version": "3.9.7"
  }
 },
 "nbformat": 4,
 "nbformat_minor": 5
}
