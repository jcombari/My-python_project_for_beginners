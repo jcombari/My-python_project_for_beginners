{
 "cells": [
  {
   "cell_type": "markdown",
   "id": "f28b6d61",
   "metadata": {},
   "source": [
    "Created another fractal design by using binary numbers as string variables. Much better than the previous design. code:\n",
    "\n",
    "https://drive.google.com/file/d/1dMajQ2Q0gD6E8-thPL-bBEQR1LC9zthn/view?fbclid=IwAR0s-8WOfHkcOzu-X5IiA1RCHFJhfpXX71bTchlN5CiUf2DGVlgrA_LKjkw"
   ]
  },
  {
   "cell_type": "code",
   "execution_count": 2,
   "id": "8fbb12c0",
   "metadata": {},
   "outputs": [],
   "source": [
    "from turtle import*\n",
    "from math import*\n",
    "import os\n",
    "# os.chdir('Your Directory')\n",
    "\n"
   ]
  },
  {
   "cell_type": "code",
   "execution_count": 6,
   "id": "b6608ae6",
   "metadata": {},
   "outputs": [
    {
     "ename": "Terminator",
     "evalue": "",
     "output_type": "error",
     "traceback": [
      "\u001b[1;31m---------------------------------------------------------------------------\u001b[0m",
      "\u001b[1;31mTerminator\u001b[0m                                Traceback (most recent call last)",
      "\u001b[1;32m~\\AppData\\Local\\Temp/ipykernel_26544/3905917286.py\u001b[0m in \u001b[0;36m<module>\u001b[1;34m\u001b[0m\n\u001b[0;32m     57\u001b[0m     \u001b[0mdown\u001b[0m\u001b[1;33m(\u001b[0m\u001b[1;33m)\u001b[0m\u001b[1;33m\u001b[0m\u001b[1;33m\u001b[0m\u001b[0m\n\u001b[0;32m     58\u001b[0m \u001b[1;33m\u001b[0m\u001b[0m\n\u001b[1;32m---> 59\u001b[1;33m \u001b[0mbground\u001b[0m\u001b[1;33m(\u001b[0m\u001b[1;36m400\u001b[0m\u001b[1;33m,\u001b[0m\u001b[1;33m-\u001b[0m\u001b[1;36m630\u001b[0m\u001b[1;33m)\u001b[0m\u001b[1;33m\u001b[0m\u001b[1;33m\u001b[0m\u001b[0m\n\u001b[0m\u001b[0;32m     60\u001b[0m \u001b[1;33m\u001b[0m\u001b[0m\n\u001b[0;32m     61\u001b[0m \u001b[0mlvl\u001b[0m \u001b[1;33m=\u001b[0m \u001b[1;36m10\u001b[0m\u001b[1;33m\u001b[0m\u001b[1;33m\u001b[0m\u001b[0m\n",
      "\u001b[1;32m~\\AppData\\Local\\Temp/ipykernel_26544/3905917286.py\u001b[0m in \u001b[0;36mbground\u001b[1;34m(xc, yc)\u001b[0m\n\u001b[0;32m     18\u001b[0m         \u001b[0mleft\u001b[0m\u001b[1;33m(\u001b[0m\u001b[1;36m30\u001b[0m\u001b[1;33m)\u001b[0m\u001b[1;33m\u001b[0m\u001b[1;33m\u001b[0m\u001b[0m\n\u001b[0;32m     19\u001b[0m         \u001b[0mfd\u001b[0m\u001b[1;33m(\u001b[0m\u001b[1;36m20\u001b[0m\u001b[1;33m)\u001b[0m\u001b[1;33m\u001b[0m\u001b[1;33m\u001b[0m\u001b[0m\n\u001b[1;32m---> 20\u001b[1;33m         \u001b[0mright\u001b[0m\u001b[1;33m(\u001b[0m\u001b[1;36m30\u001b[0m\u001b[1;33m)\u001b[0m\u001b[1;33m\u001b[0m\u001b[1;33m\u001b[0m\u001b[0m\n\u001b[0m\u001b[0;32m     21\u001b[0m         \u001b[0mfd\u001b[0m\u001b[1;33m(\u001b[0m\u001b[1;36m20\u001b[0m\u001b[1;33m)\u001b[0m\u001b[1;33m\u001b[0m\u001b[1;33m\u001b[0m\u001b[0m\n\u001b[0;32m     22\u001b[0m     \u001b[0mh\u001b[0m\u001b[1;33m+=\u001b[0m\u001b[1;36m1\u001b[0m\u001b[1;33m\u001b[0m\u001b[1;33m\u001b[0m\u001b[0m\n",
      "\u001b[1;32m~\\.conda\\envs\\research\\lib\\turtle.py\u001b[0m in \u001b[0;36mright\u001b[1;34m(angle)\u001b[0m\n",
      "\u001b[1;31mTerminator\u001b[0m: "
     ]
    }
   ],
   "source": [
    "screen = Screen()\n",
    "speed(0)\n",
    "\n",
    "\n",
    "colors = ('#ff0000', '#ff8000', '#ffff00', '#80ff00', '#00ff00', '#00ff80', '#00ffff', '#0080ff', '#0000ff', '#7f00ff', '#ff00ff', '#ff007f')  #'Red', 'Orange', 'Yellow', 'Lime Green', 'Green', 'Blue Green', 'Cyan', 'Sky Blue', 'Blue', 'Purple', 'Magenta', 'Pink'\n",
    "\n",
    "def bground(xc,yc):\n",
    "  left(150)  \n",
    "  colormode(255)\n",
    "  h=10\n",
    "  for j in range(150):  \n",
    "    pencolor(h,h,h)\n",
    "    pensize(10)\n",
    "    up()\n",
    "    goto(xc,yc)\n",
    "    down()\n",
    "    for i in range(40):\n",
    "        left(30)\n",
    "        fd(20)\n",
    "        right(30)\n",
    "        fd(20)\n",
    "    h+=1\n",
    "    xc+=5\n",
    "    yc+=7\n",
    "  right(150)      \n",
    "\n",
    "def b_convert(val):\n",
    "    fmat = '{0:0'+str(lvl)+'b}'\n",
    "    bvalue = fmat.format(val)\n",
    "    return bvalue\n",
    "    \n",
    "def bifurcation(val,len,ps,ang,ang2,xc,yc,til):\n",
    "    bval = b_convert(val)\n",
    "    olen=len/0.75\n",
    "    asum=0\n",
    "    j=1\n",
    "    for i in bval:\n",
    "        pencolor(colors[j])\n",
    "        pensize(ps)\n",
    "        if i=='0':\n",
    "           left(ang)\n",
    "           fd(len)\n",
    "           right(ang2)\n",
    "           asum = asum+ang-ang2\n",
    "           j+=1\n",
    "        elif i=='1':\n",
    "           right(ang)\n",
    "           fd(len)\n",
    "           left(ang2)\n",
    "           asum = asum+ang2-ang\n",
    "           j+=1\n",
    "        len=len*0.75\n",
    "        ps=ps*0.75\n",
    "    up()\n",
    "    right(asum)\n",
    "    goto(xc+olen*cos(til),yc+olen*sin(til))\n",
    "    down()\n",
    "\n",
    "bground(400,-630)\n",
    "\n",
    "lvl = 10\n",
    "tot = 2**lvl\n",
    "\n",
    "X=-150\n",
    "Y=-150\n",
    "til=45   \n",
    "up()                 \n",
    "goto(X,Y)\n",
    "left(til)\n",
    "down()\n",
    "\n",
    "ps=15\n",
    "len=100\n",
    "ang=45\n",
    "ang2=30\n",
    "\n",
    "  \n",
    "pencolor('#ff0000')\n",
    "pensize(ps)\n",
    "fd(len/0.75)\n",
    "\n",
    "for i in range(tot):\n",
    "    bifurcation(i,len,ps,ang,ang2,X,Y,radians(til))\n",
    "\n",
    "ht()\n",
    "screen.getcanvas().postscript(file='fractals2.eps')\n",
    "done()       "
   ]
  }
 ],
 "metadata": {
  "kernelspec": {
   "display_name": "Python 3 (ipykernel)",
   "language": "python",
   "name": "python3"
  },
  "language_info": {
   "codemirror_mode": {
    "name": "ipython",
    "version": 3
   },
   "file_extension": ".py",
   "mimetype": "text/x-python",
   "name": "python",
   "nbconvert_exporter": "python",
   "pygments_lexer": "ipython3",
   "version": "3.9.7"
  }
 },
 "nbformat": 4,
 "nbformat_minor": 5
}
