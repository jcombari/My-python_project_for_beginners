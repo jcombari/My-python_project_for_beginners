{
 "cells": [
  {
   "cell_type": "markdown",
   "id": "1b73ec73",
   "metadata": {},
   "source": [
    "# Library"
   ]
  },
  {
   "cell_type": "code",
   "execution_count": 1,
   "id": "09b4b518",
   "metadata": {},
   "outputs": [],
   "source": [
    "# Paquetes necesarios\n",
    "import pandas as pd\n",
    "import numpy as np\n",
    "import os\n",
    "import glob\n",
    "from datetime import datetime # para incluir fecha en la exportación de archivos\n",
    "pd.set_option('display.max_columns', None) \n",
    "pd.set_option('display.max_rows', None)\n",
    "from PIL import Image"
   ]
  },
  {
   "cell_type": "markdown",
   "id": "0b991761",
   "metadata": {},
   "source": [
    "# Path"
   ]
  },
  {
   "cell_type": "code",
   "execution_count": 2,
   "id": "dc955a30",
   "metadata": {},
   "outputs": [],
   "source": [
    "#vamos a leer la base enviada y crear una super base\n",
    "path=r'C:\\Users\\jenny\\Documents\\GITHUB\\postdoc\\05_articulo indexado\\20211126 presentacion seminario matemática\\Ejemplo\\grafico compromiso'\n",
    "os.chdir(path)"
   ]
  },
  {
   "cell_type": "markdown",
   "id": "f617b2af",
   "metadata": {},
   "source": [
    "# Code for png images"
   ]
  },
  {
   "cell_type": "code",
   "execution_count": null,
   "id": "3bd2b409",
   "metadata": {},
   "outputs": [],
   "source": [
    "filenames=glob.glob('**//**.png', recursive=True)\n",
    "print(filenames)"
   ]
  },
  {
   "cell_type": "code",
   "execution_count": null,
   "id": "dc2be747",
   "metadata": {},
   "outputs": [],
   "source": [
    "for filename in filenames:\n",
    "    #fig.save('logo-RGB.eps', lossless = True)\n",
    "    print(filename)\n",
    "    #fig = Image.open(filename)\n",
    "    newfilename='ejemplo_calif_'+filename.replace(\".png\" , \".eps\")\n",
    "    fig=Image.open(filename)\n",
    "    fig=fig.convert('RGB')\n",
    "    fig.save(newfilename)\n",
    "    \n",
    "    #print(fig.mode)\n",
    "    # Ensure scaling can anti-alias by converting 1-bit or paletted images\n",
    "    #if fig.mode in ('P', '1'):\n",
    "    #    fig = fig.convert(\"RGB\")\n",
    "    #newfilename='ejemplo_calif_'+filename.replace(\".png\" , \".eps\")\n",
    "    #fig.save(newfilename)"
   ]
  },
  {
   "cell_type": "code",
   "execution_count": null,
   "id": "6dd33706",
   "metadata": {},
   "outputs": [],
   "source": [
    "for filename in filenames:\n",
    "    #fig.save('logo-RGB.eps', lossless = True)\n",
    "    print(filename)\n",
    "    #fig = Image.open(filename)\n",
    "    newfilename='ejemplo_calif_'+filename.replace(\".PNG\" , \".eps\")\n",
    "    fig=Image.open(filename)\n",
    "    fig=fig.convert('RGB')\n",
    "    fig.save(newfilename)\n",
    "    \n",
    "    #print(fig.mode)\n",
    "    # Ensure scaling can anti-alias by converting 1-bit or paletted images\n",
    "    #if fig.mode in ('P', '1'):\n",
    "    #    fig = fig.convert(\"RGB\")\n",
    "    #newfilename='ejemplo_calif_'+filename.replace(\".png\" , \".eps\")\n",
    "    #fig.save(newfilename)"
   ]
  },
  {
   "cell_type": "markdown",
   "id": "1bf41b3e",
   "metadata": {},
   "source": [
    "# Code for jpg images"
   ]
  },
  {
   "cell_type": "code",
   "execution_count": 3,
   "id": "b5a7d5ed",
   "metadata": {},
   "outputs": [
    {
     "name": "stdout",
     "output_type": "stream",
     "text": [
      "['compromiso (1).JPG', 'compromiso (2).JPG']\n"
     ]
    }
   ],
   "source": [
    "filenames=glob.glob('**//**.JPG', recursive=True)\n",
    "print(filenames)"
   ]
  },
  {
   "cell_type": "code",
   "execution_count": 4,
   "id": "2e57f8a1",
   "metadata": {},
   "outputs": [
    {
     "name": "stdout",
     "output_type": "stream",
     "text": [
      "compromiso (1).JPG\n",
      "compromiso (2).JPG\n"
     ]
    }
   ],
   "source": [
    "for filename in filenames:\n",
    "    #fig.save('logo-RGB.eps', lossless = True)\n",
    "    print(filename)\n",
    "    #fig = Image.open(filename)\n",
    "    newfilename='resumen_'+filename.replace(\".JPG\" , \".eps\")\n",
    "    fig=Image.open(filename)\n",
    "    fig=fig.convert('RGB')\n",
    "    fig.save(newfilename, dpi=1200)\n",
    "    \n",
    "    #print(fig.mode)\n",
    "    # Ensure scaling can anti-alias by converting 1-bit or paletted images\n",
    "    #if fig.mode in ('P', '1'):\n",
    "    #    fig = fig.convert(\"RGB\")\n",
    "    #newfilename='ejemplo_calif_'+filename.replace(\".png\" , \".eps\")\n",
    "    #fig.save(newfilename)"
   ]
  },
  {
   "cell_type": "code",
   "execution_count": null,
   "id": "4f96cc4d",
   "metadata": {},
   "outputs": [],
   "source": [
    "for filename in filenames:\n",
    "    #fig.save('logo-RGB.eps', lossless = True)\n",
    "    print(filename)\n",
    "    #fig = Image.open(filename)\n",
    "    newfilename='resumen_'+filename.replace(\".jpg\" , \".eps\")\n",
    "    fig=Image.open(filename)\n",
    "    fig=fig.convert('RGB')\n",
    "    fig.save(newfilename)\n",
    "    \n",
    "    #print(fig.mode)\n",
    "    # Ensure scaling can anti-alias by converting 1-bit or paletted images\n",
    "    #if fig.mode in ('P', '1'):\n",
    "    #    fig = fig.convert(\"RGB\")\n",
    "    #newfilename='ejemplo_calif_'+filename.replace(\".png\" , \".eps\")\n",
    "    #fig.save(newfilename)"
   ]
  }
 ],
 "metadata": {
  "kernelspec": {
   "display_name": "Python 3 (ipykernel)",
   "language": "python",
   "name": "python3"
  },
  "language_info": {
   "codemirror_mode": {
    "name": "ipython",
    "version": 3
   },
   "file_extension": ".py",
   "mimetype": "text/x-python",
   "name": "python",
   "nbconvert_exporter": "python",
   "pygments_lexer": "ipython3",
   "version": "3.9.7"
  }
 },
 "nbformat": 4,
 "nbformat_minor": 5
}
