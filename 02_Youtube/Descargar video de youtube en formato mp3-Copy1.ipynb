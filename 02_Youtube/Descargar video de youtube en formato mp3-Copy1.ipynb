{
 "cells": [
  {
   "cell_type": "markdown",
   "id": "a8356f73",
   "metadata": {},
   "source": [
    "https://dev.to/stokry/download-youtube-video-to-mp3-with-python-26p"
   ]
  },
  {
   "cell_type": "markdown",
   "id": "20b0b429",
   "metadata": {},
   "source": [
    "pip install youtube_dl"
   ]
  },
  {
   "cell_type": "code",
   "execution_count": 1,
   "id": "3eea6156",
   "metadata": {},
   "outputs": [],
   "source": [
    "import youtube_dl"
   ]
  },
  {
   "cell_type": "code",
   "execution_count": 2,
   "id": "f87e724a",
   "metadata": {},
   "outputs": [
    {
     "name": "stdout",
     "output_type": "stream",
     "text": [
      "please enter youtube video url:https://www.youtube.com/watch?v=-ScfiSF8TuQ\n",
      "[youtube] -ScfiSF8TuQ: Downloading webpage\n",
      "[youtube] -ScfiSF8TuQ: Downloading webpage\n",
      "[download] Destination: El Cisne, de El Carnaval de los Animales, Saint-Saëns.mp3\n",
      "[download] 100% of 2.79MiB in 00:52                  \n"
     ]
    },
    {
     "name": "stderr",
     "output_type": "stream",
     "text": [
      "WARNING: -ScfiSF8TuQ: writing DASH m4a. Only some players support this container. Install ffmpeg or avconv to fix this automatically.\n"
     ]
    },
    {
     "name": "stdout",
     "output_type": "stream",
     "text": [
      "Download complete... El Cisne, de El Carnaval de los Animales, Saint-Saëns.mp3\n"
     ]
    }
   ],
   "source": [
    "def run():\n",
    "    video_url = input(\"please enter youtube video url:\")\n",
    "    video_info = youtube_dl.YoutubeDL().extract_info(\n",
    "        url = video_url,download=False\n",
    "    )\n",
    "    filename = f\"{video_info['title']}.mp3\"\n",
    "    options={\n",
    "        'format':'bestaudio/best',\n",
    "        'keepvideo':False,\n",
    "        'outtmpl':filename,\n",
    "    }\n",
    "\n",
    "    with youtube_dl.YoutubeDL(options) as ydl:\n",
    "        ydl.download([video_info['webpage_url']])\n",
    "\n",
    "    print(\"Download complete... {}\".format(filename))\n",
    "\n",
    "if __name__=='__main__':\n",
    "    run()"
   ]
  },
  {
   "cell_type": "code",
   "execution_count": 8,
   "id": "434000f2",
   "metadata": {},
   "outputs": [
    {
     "name": "stdout",
     "output_type": "stream",
     "text": [
      "please enter youtube video url:https://www.youtube.com/watch?v=hB1CTizqGFk\n",
      "[youtube] hB1CTizqGFk: Downloading webpage\n",
      "[youtube] hB1CTizqGFk: Downloading webpage\n",
      "[download] Destination: Machine Learning Interview Questions And Answers # Data Science Interview Questions # Simplilearn.mp3\n",
      "[download] 100% of 68.20MiB in 27:45                    \n",
      "Download complete... Machine Learning Interview Questions And Answers | Data Science Interview Questions | Simplilearn.mp3\n"
     ]
    }
   ],
   "source": [
    "def run():\n",
    "    video_url = input(\"please enter youtube video url:\")\n",
    "    video_info = youtube_dl.YoutubeDL().extract_info(\n",
    "        url = video_url,download=False\n",
    "    )\n",
    "    filename = f\"{video_info['title']}.mp3\"\n",
    "    options={\n",
    "        'format':'bestaudio/best',\n",
    "        'keepvideo':False,\n",
    "        'outtmpl':filename,\n",
    "    }\n",
    "\n",
    "    with youtube_dl.YoutubeDL(options) as ydl:\n",
    "        ydl.download([video_info['webpage_url']])\n",
    "\n",
    "    print(\"Download complete... {}\".format(filename))\n",
    "\n",
    "if __name__=='__main__':\n",
    "    run()"
   ]
  }
 ],
 "metadata": {
  "kernelspec": {
   "display_name": "Python 3 (ipykernel)",
   "language": "python",
   "name": "python3"
  },
  "language_info": {
   "codemirror_mode": {
    "name": "ipython",
    "version": 3
   },
   "file_extension": ".py",
   "mimetype": "text/x-python",
   "name": "python",
   "nbconvert_exporter": "python",
   "pygments_lexer": "ipython3",
   "version": "3.9.7"
  }
 },
 "nbformat": 4,
 "nbformat_minor": 5
}
