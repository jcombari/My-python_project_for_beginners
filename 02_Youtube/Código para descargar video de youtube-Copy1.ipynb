{
 "cells": [
  {
   "cell_type": "markdown",
   "id": "29e0264b",
   "metadata": {},
   "source": [
    "https://www.altaruru.com/descargar-videos-y-musica-de-youtube-con-python-pytube/"
   ]
  },
  {
   "cell_type": "code",
   "execution_count": 3,
   "id": "4a7c803c",
   "metadata": {},
   "outputs": [],
   "source": [
    "import pytube "
   ]
  },
  {
   "cell_type": "code",
   "execution_count": 4,
   "id": "50bd8fd3",
   "metadata": {},
   "outputs": [
    {
     "data": {
      "text/plain": [
       "'C:\\\\Users\\\\jenny\\\\Documents\\\\GITHUB\\\\My-python_project_for_beginners\\\\02_Youtube\\\\2021 12 HISTORIA SOCIAL VIAJE A MADRID.mp4'"
      ]
     },
     "execution_count": 4,
     "metadata": {},
     "output_type": "execute_result"
    }
   ],
   "source": [
    "yt = pytube.YouTube(\"https://www.youtube.com/watch?v=u55WYbaVTFA&list=PLCtB31P9RqRcvcwAlQE_Oh6OIA0UOoke0&index=3\")\n",
    "yt.streams.filter(progressive=True, file_extension='mp4').order_by('resolution').desc().first().download()"
   ]
  }
 ],
 "metadata": {
  "kernelspec": {
   "display_name": "Python 3 (ipykernel)",
   "language": "python",
   "name": "python3"
  },
  "language_info": {
   "codemirror_mode": {
    "name": "ipython",
    "version": 3
   },
   "file_extension": ".py",
   "mimetype": "text/x-python",
   "name": "python",
   "nbconvert_exporter": "python",
   "pygments_lexer": "ipython3",
   "version": "3.9.7"
  }
 },
 "nbformat": 4,
 "nbformat_minor": 5
}
